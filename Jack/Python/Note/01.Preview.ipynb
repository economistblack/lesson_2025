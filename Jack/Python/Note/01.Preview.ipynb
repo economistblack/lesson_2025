{
 "cells": [
  {
   "cell_type": "markdown",
   "metadata": {},
   "source": [
    "# Python 기초\n",
    "\n",
    "## 사칙연산"
   ]
  },
  {
   "cell_type": "code",
   "execution_count": 2,
   "metadata": {},
   "outputs": [
    {
     "data": {
      "text/plain": [
       "3"
      ]
     },
     "execution_count": 2,
     "metadata": {},
     "output_type": "execute_result"
    }
   ],
   "source": [
    "# 덧셈\n",
    "1 + 2 "
   ]
  },
  {
   "cell_type": "code",
   "execution_count": 3,
   "metadata": {},
   "outputs": [
    {
     "data": {
      "text/plain": [
       "3"
      ]
     },
     "execution_count": 3,
     "metadata": {},
     "output_type": "execute_result"
    }
   ],
   "source": [
    "# 뺄셈\n",
    "5 - 2 "
   ]
  },
  {
   "cell_type": "code",
   "execution_count": 4,
   "metadata": {},
   "outputs": [
    {
     "data": {
      "text/plain": [
       "6"
      ]
     },
     "execution_count": 4,
     "metadata": {},
     "output_type": "execute_result"
    }
   ],
   "source": [
    "# 곱셈\n",
    "3 * 2 "
   ]
  },
  {
   "cell_type": "code",
   "execution_count": null,
   "metadata": {},
   "outputs": [
    {
     "data": {
      "text/plain": [
       "1.5"
      ]
     },
     "execution_count": 5,
     "metadata": {},
     "output_type": "execute_result"
    }
   ],
   "source": [
    "# 실수 나눗셈\n",
    "3 / 2 "
   ]
  },
  {
   "cell_type": "code",
   "execution_count": null,
   "metadata": {},
   "outputs": [
    {
     "data": {
      "text/plain": [
       "1"
      ]
     },
     "execution_count": 6,
     "metadata": {},
     "output_type": "execute_result"
    }
   ],
   "source": [
    "# 정수 나눗셈의 나머지\n",
    "5 % 2"
   ]
  },
  {
   "cell_type": "code",
   "execution_count": 7,
   "metadata": {},
   "outputs": [
    {
     "data": {
      "text/plain": [
       "2"
      ]
     },
     "execution_count": 7,
     "metadata": {},
     "output_type": "execute_result"
    }
   ],
   "source": [
    "# 정수 나눗셈의 몫\n",
    "5 // 2 "
   ]
  },
  {
   "cell_type": "code",
   "execution_count": 11,
   "metadata": {},
   "outputs": [
    {
     "name": "stdout",
     "output_type": "stream",
     "text": [
      "몫: 2\n",
      "나머지: 1\n"
     ]
    }
   ],
   "source": [
    "# 5를 2로 나눈 나눗셈의 몫과 나머지를 출력\n",
    "print(\"몫:\", 5 // 2)\n",
    "print(\"나머지:\", 5 % 2)"
   ]
  },
  {
   "cell_type": "markdown",
   "metadata": {},
   "source": [
    "---\n",
    "## 변수에 대입하여 계산하기"
   ]
  },
  {
   "cell_type": "code",
   "execution_count": 14,
   "metadata": {},
   "outputs": [
    {
     "name": "stdout",
     "output_type": "stream",
     "text": [
      "덧셈: 8\n",
      "뺄셈: 2\n",
      "곱셈: 15\n",
      "나눗셈: 1.6666666666666667\n"
     ]
    }
   ],
   "source": [
    "print(\"덧셈:\", 5+3)\n",
    "print(\"뺄셈:\", 5-3)\n",
    "print(\"곱셈:\", 5*3)\n",
    "print(\"나눗셈:\", 5/3)"
   ]
  },
  {
   "cell_type": "code",
   "execution_count": null,
   "metadata": {},
   "outputs": [
    {
     "name": "stdout",
     "output_type": "stream",
     "text": [
      "덧셈: 8\n",
      "뺄셈: 2\n",
      "곱셈: 15\n",
      "나눗셈: 1.6666666666666667\n"
     ]
    }
   ],
   "source": [
    "# 변수를 이용한 가감승제 (CPU - Memory 모두 사용)\n",
    "\n",
    "num1 = 5\n",
    "num2 = 3\n",
    "\n",
    "\n",
    "print(\"덧셈:\", num1+num2)\n",
    "print(\"뺄셈:\", num1-num2)\n",
    "print(\"곱셈:\", num1*num2)\n",
    "print(\"나눗셈:\", num1/num2)"
   ]
  },
  {
   "cell_type": "code",
   "execution_count": null,
   "metadata": {},
   "outputs": [
    {
     "name": "stdout",
     "output_type": "stream",
     "text": [
      "50\n",
      "50\n"
     ]
    }
   ],
   "source": [
    "print(num1)\n",
    "num1 = 50\n",
    "print(num1)\n",
    "## 두 번실행 시 50, 50 이나옴 "
   ]
  },
  {
   "cell_type": "code",
   "execution_count": 21,
   "metadata": {},
   "outputs": [
    {
     "name": "stdout",
     "output_type": "stream",
     "text": [
      "50\n",
      "Python\n"
     ]
    }
   ],
   "source": [
    "print(num1)\n",
    "num1 = \"Python\"\n",
    "print(num1)"
   ]
  },
  {
   "cell_type": "markdown",
   "metadata": {},
   "source": [
    "### 조건문(if)"
   ]
  },
  {
   "cell_type": "code",
   "execution_count": 27,
   "metadata": {},
   "outputs": [
    {
     "name": "stdout",
     "output_type": "stream",
     "text": [
      "var01 is greater than 10\n",
      "--- End ---\n"
     ]
    }
   ],
   "source": [
    "var01 = 30\n",
    "\n",
    "if var01 > 10:\n",
    "    print(\"var01 is greater than 10\")\n",
    "\n",
    "print(\"--- End ---\")"
   ]
  },
  {
   "cell_type": "markdown",
   "metadata": {},
   "source": [
    "---\n",
    "### 반복문(for)"
   ]
  },
  {
   "cell_type": "code",
   "execution_count": 28,
   "metadata": {},
   "outputs": [
    {
     "name": "stdout",
     "output_type": "stream",
     "text": [
      "1\n",
      "2\n",
      "3\n",
      "4\n",
      "5\n",
      "6\n",
      "7\n",
      "8\n",
      "9\n",
      "10\n"
     ]
    }
   ],
   "source": [
    "print(1)\n",
    "print(2)\n",
    "print(3)\n",
    "print(4)\n",
    "print(5)\n",
    "print(6)\n",
    "print(7)\n",
    "print(8)\n",
    "print(9)\n",
    "print(10)"
   ]
  },
  {
   "cell_type": "code",
   "execution_count": 31,
   "metadata": {},
   "outputs": [
    {
     "name": "stdout",
     "output_type": "stream",
     "text": [
      "1\n",
      "2\n",
      "3\n",
      "4\n",
      "5\n",
      "6\n",
      "7\n",
      "8\n",
      "10\n"
     ]
    }
   ],
   "source": [
    "data = 1,2,3,4,5,6,7,8,10\n",
    "for i in data:\n",
    "    print(i)\n"
   ]
  },
  {
   "cell_type": "code",
   "execution_count": 30,
   "metadata": {},
   "outputs": [
    {
     "data": {
      "text/plain": [
       "(1, 2, 3, 4, 5, 6, 7, 8, 10)"
      ]
     },
     "execution_count": 30,
     "metadata": {},
     "output_type": "execute_result"
    }
   ],
   "source": [
    "data"
   ]
  },
  {
   "cell_type": "code",
   "execution_count": 43,
   "metadata": {},
   "outputs": [
    {
     "name": "stdout",
     "output_type": "stream",
     "text": [
      "--- 2 단 ---\n",
      "2 X 1 = 2\n",
      "2 X 2 = 4\n",
      "2 X 3 = 6\n",
      "2 X 4 = 8\n",
      "2 X 5 = 10\n",
      "2 X 6 = 12\n",
      "2 X 7 = 14\n",
      "2 X 8 = 16\n",
      "2 X 9 = 18\n",
      "--- 3 단 ---\n",
      "3 X 1 = 3\n",
      "3 X 2 = 6\n",
      "3 X 3 = 9\n",
      "3 X 4 = 12\n",
      "3 X 5 = 15\n",
      "3 X 6 = 18\n",
      "3 X 7 = 21\n",
      "3 X 8 = 24\n",
      "3 X 9 = 27\n",
      "--- 4 단 ---\n",
      "4 X 1 = 4\n",
      "4 X 2 = 8\n",
      "4 X 3 = 12\n",
      "4 X 4 = 16\n",
      "4 X 5 = 20\n",
      "4 X 6 = 24\n",
      "4 X 7 = 28\n",
      "4 X 8 = 32\n",
      "4 X 9 = 36\n",
      "--- 5 단 ---\n",
      "5 X 1 = 5\n",
      "5 X 2 = 10\n",
      "5 X 3 = 15\n",
      "5 X 4 = 20\n",
      "5 X 5 = 25\n",
      "5 X 6 = 30\n",
      "5 X 7 = 35\n",
      "5 X 8 = 40\n",
      "5 X 9 = 45\n",
      "--- 6 단 ---\n",
      "6 X 1 = 6\n",
      "6 X 2 = 12\n",
      "6 X 3 = 18\n",
      "6 X 4 = 24\n",
      "6 X 5 = 30\n",
      "6 X 6 = 36\n",
      "6 X 7 = 42\n",
      "6 X 8 = 48\n",
      "6 X 9 = 54\n",
      "--- 7 단 ---\n",
      "7 X 1 = 7\n",
      "7 X 2 = 14\n",
      "7 X 3 = 21\n",
      "7 X 4 = 28\n",
      "7 X 5 = 35\n",
      "7 X 6 = 42\n",
      "7 X 7 = 49\n",
      "7 X 8 = 56\n",
      "7 X 9 = 63\n",
      "--- 8 단 ---\n",
      "8 X 1 = 8\n",
      "8 X 2 = 16\n",
      "8 X 3 = 24\n",
      "8 X 4 = 32\n",
      "8 X 5 = 40\n",
      "8 X 6 = 48\n",
      "8 X 7 = 56\n",
      "8 X 8 = 64\n",
      "8 X 9 = 72\n",
      "--- 9 단 ---\n",
      "9 X 1 = 9\n",
      "9 X 2 = 18\n",
      "9 X 3 = 27\n",
      "9 X 4 = 36\n",
      "9 X 5 = 45\n",
      "9 X 6 = 54\n",
      "9 X 7 = 63\n",
      "9 X 8 = 72\n",
      "9 X 9 = 81\n"
     ]
    }
   ],
   "source": [
    "# 구구단 2단\n",
    "\n",
    "datas = 1,2,3,4,5,6,7,8,9\n",
    "dans = 2,3,4,5,6,7,8,9\n",
    "\n",
    "for dan in dans:\n",
    "    print(\"---\", dan, \"단\", \"---\")\n",
    "    for data in datas:\n",
    "        print(dan, \"X\", data, \"=\", dan*data) \n"
   ]
  },
  {
   "cell_type": "markdown",
   "metadata": {},
   "source": [
    "---\n",
    "### 함수(function)"
   ]
  },
  {
   "cell_type": "code",
   "execution_count": 44,
   "metadata": {},
   "outputs": [
    {
     "name": "stdout",
     "output_type": "stream",
     "text": [
      "39\n",
      "67\n",
      "57\n"
     ]
    }
   ],
   "source": [
    "print(10 + 29)\n",
    "print(11 + 56)\n",
    "print(12 + 45)"
   ]
  },
  {
   "cell_type": "markdown",
   "metadata": {},
   "source": []
  },
  {
   "cell_type": "code",
   "execution_count": 67,
   "metadata": {},
   "outputs": [],
   "source": [
    "def sumF(num1, num2):\n",
    "    return num1 + num2"
   ]
  },
  {
   "cell_type": "code",
   "execution_count": 48,
   "metadata": {},
   "outputs": [
    {
     "data": {
      "text/plain": [
       "30"
      ]
     },
     "execution_count": 48,
     "metadata": {},
     "output_type": "execute_result"
    }
   ],
   "source": [
    "# 함수 사용\n",
    "sumF(10, 20)"
   ]
  },
  {
   "cell_type": "code",
   "execution_count": null,
   "metadata": {},
   "outputs": [],
   "source": [
    "def sumF1(num1, num2):\n",
    "    print(num1 + num2)"
   ]
  },
  {
   "cell_type": "code",
   "execution_count": 76,
   "metadata": {},
   "outputs": [
    {
     "name": "stdout",
     "output_type": "stream",
     "text": [
      "30\n"
     ]
    }
   ],
   "source": [
    "sumF1(10, 20)"
   ]
  },
  {
   "cell_type": "code",
   "execution_count": 75,
   "metadata": {},
   "outputs": [
    {
     "name": "stdout",
     "output_type": "stream",
     "text": [
      "30\n",
      "sumF: 30\n",
      "-------\n",
      "sumF1: None\n"
     ]
    }
   ],
   "source": [
    "result1 = sumF(10, 20) # return\n",
    "result2 = sumF1(10, 20) # print\n",
    "print(\"sumF:\", result1)\n",
    "print(\"-------\")\n",
    "print(\"sumF1:\", result2)"
   ]
  },
  {
   "cell_type": "code",
   "execution_count": null,
   "metadata": {},
   "outputs": [
    {
     "name": "stdout",
     "output_type": "stream",
     "text": [
      "30\n",
      "sumF: 30\n",
      "-------\n",
      "sumF1: None\n"
     ]
    }
   ],
   "source": []
  },
  {
   "cell_type": "code",
   "execution_count": null,
   "metadata": {},
   "outputs": [],
   "source": []
  },
  {
   "cell_type": "code",
   "execution_count": null,
   "metadata": {},
   "outputs": [],
   "source": []
  }
 ],
 "metadata": {
  "kernelspec": {
   "display_name": "base",
   "language": "python",
   "name": "python3"
  },
  "language_info": {
   "codemirror_mode": {
    "name": "ipython",
    "version": 3
   },
   "file_extension": ".py",
   "mimetype": "text/x-python",
   "name": "python",
   "nbconvert_exporter": "python",
   "pygments_lexer": "ipython3",
   "version": "3.12.7"
  }
 },
 "nbformat": 4,
 "nbformat_minor": 2
}

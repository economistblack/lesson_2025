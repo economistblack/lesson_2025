{
 "cells": [
  {
   "cell_type": "markdown",
   "metadata": {},
   "source": [
    "# --- 변수와 자료형 ---\n",
    "## 변수    \n",
    ": 계산에 필요한 자료를 일시적으로 저장하거나 처리결과를 담을 수 있는 기억장소를 지정해 주는 역할    \n",
    "변수 이름은 값을 지정하는 메모리 영역의 이름으로 할당 \n",
    "### 변수 이름의 작성 규칙    \n",
    "- 첫자는 영문으로 시작    \n",
    "- 첫자를 제외하고 숫자, under bar, dot를 사용할 수 있음     \n",
    "- 대문자와 소문자를 구분    \n",
    "- 변수 이름은 의미를 파악할 수 있는 이름으로 지정하는 것이 좋습니다.    \n",
    "- 두 단어를 포함한 Camel 기법(변수이름을 지정할 경우 두번째 단어의 첫자는 대문자로 표시)으로 하거나 Snake 기법(under bar로 연결) 하는 것이 가독성이 좋습니다."
   ]
  },
  {
   "cell_type": "markdown",
   "metadata": {},
   "source": []
  },
  {
   "cell_type": "code",
   "execution_count": 2,
   "metadata": {},
   "outputs": [],
   "source": [
    "appleFruit = 10   # Camel 개발 시 많이 사용\n",
    "apple_fruit = 20  # Snake 분석 시 많이 사용\n",
    "\n"
   ]
  },
  {
   "cell_type": "markdown",
   "metadata": {},
   "source": [
    "# 자료형(Data Type)     \n",
    "## 숫자 자료현"
   ]
  },
  {
   "cell_type": "code",
   "execution_count": 3,
   "metadata": {},
   "outputs": [
    {
     "name": "stdout",
     "output_type": "stream",
     "text": [
      "0\n"
     ]
    }
   ],
   "source": [
    "# 정수형\n",
    "var01 = 123\n",
    "var01 = -17\n",
    "var01 = 0\n",
    "\n",
    "print(var01)\n",
    "\n"
   ]
  },
  {
   "cell_type": "code",
   "execution_count": 4,
   "metadata": {},
   "outputs": [
    {
     "name": "stdout",
     "output_type": "stream",
     "text": [
      "-12.34\n"
     ]
    }
   ],
   "source": [
    "# 실수형\n",
    "var02 = 1.2\n",
    "var02 = -12.34\n",
    "\n",
    "print(var02)"
   ]
  },
  {
   "cell_type": "code",
   "execution_count": 5,
   "metadata": {},
   "outputs": [
    {
     "name": "stdout",
     "output_type": "stream",
     "text": [
      "Apple\n",
      "Apple Banana\n",
      "AppleBanana\n"
     ]
    }
   ],
   "source": [
    "# 화면 출력\n",
    "print(\"Apple\")\n",
    "print(\"Apple\", \"Banana\") # 기본값이 콤마가 나오면 한 칸 띄어쓰기이다.\n",
    "print(\"Apple\" + \"Banana\") # 파이썬에서는 문자 더하기가 가능"
   ]
  },
  {
   "cell_type": "code",
   "execution_count": 6,
   "metadata": {},
   "outputs": [
    {
     "name": "stdout",
     "output_type": "stream",
     "text": [
      "덧셈 : 7\n",
      "뺄셈 : -1\n",
      "곱셈 : 12\n",
      "실수 나눗셈 : 0.75\n",
      "실수 나눗셈 몫 : 0\n",
      "실수 나눗셈 나머지 : 3\n"
     ]
    }
   ],
   "source": [
    "# 연산자\n",
    "var01 = 3\n",
    "var02 = 4\n",
    "\n",
    "print(\"덧셈 :\", var01 + var02)\n",
    "print(\"뺄셈 :\", var01 - var02)\n",
    "print(\"곱셈 :\", var01 * var02)\n",
    "print(\"실수 나눗셈 :\", var01 / var02)\n",
    "print(\"실수 나눗셈 몫 :\", var01 // var02)\n",
    "print(\"실수 나눗셈 나머지 :\", var01 % var02)"
   ]
  },
  {
   "cell_type": "code",
   "execution_count": 7,
   "metadata": {},
   "outputs": [
    {
     "name": "stdout",
     "output_type": "stream",
     "text": [
      "거듭제곱 : 9\n",
      "거듭제곱 : 9\n"
     ]
    }
   ],
   "source": [
    "# 거듭제곱\n",
    "\n",
    "print('거듭제곱 :', var01 ** 2)\n",
    "print('거듭제곱 :', pow(var01, 2))\n"
   ]
  },
  {
   "cell_type": "markdown",
   "metadata": {},
   "source": [
    "### 파이썬 모듈을 이용한 수학 계산"
   ]
  },
  {
   "cell_type": "code",
   "execution_count": 8,
   "metadata": {},
   "outputs": [],
   "source": [
    "import math # 수학 계산 모듈 불러오기"
   ]
  },
  {
   "cell_type": "code",
   "execution_count": 9,
   "metadata": {},
   "outputs": [
    {
     "data": {
      "text/plain": [
       "9.0"
      ]
     },
     "execution_count": 9,
     "metadata": {},
     "output_type": "execute_result"
    }
   ],
   "source": [
    "# 거듭제곱\n",
    "\n",
    "math.pow(var01, 2)"
   ]
  },
  {
   "cell_type": "code",
   "execution_count": 10,
   "metadata": {},
   "outputs": [
    {
     "data": {
      "text/plain": [
       "1.7320508075688772"
      ]
     },
     "execution_count": 10,
     "metadata": {},
     "output_type": "execute_result"
    }
   ],
   "source": [
    "# 제곱근\n",
    "\n",
    "math.sqrt(var01)"
   ]
  },
  {
   "cell_type": "code",
   "execution_count": 11,
   "metadata": {},
   "outputs": [
    {
     "data": {
      "text/plain": [
       "0.8509035245341184"
      ]
     },
     "execution_count": 11,
     "metadata": {},
     "output_type": "execute_result"
    }
   ],
   "source": [
    "# sin 45도\n",
    "\n",
    "math.sin(45)"
   ]
  },
  {
   "cell_type": "code",
   "execution_count": 12,
   "metadata": {},
   "outputs": [
    {
     "data": {
      "text/plain": [
       "1.0"
      ]
     },
     "execution_count": 12,
     "metadata": {},
     "output_type": "execute_result"
    }
   ],
   "source": [
    "math.pow(math.sin(45), 2) + math.pow(math.cos(45), 2)"
   ]
  },
  {
   "cell_type": "code",
   "execution_count": 13,
   "metadata": {},
   "outputs": [
    {
     "name": "stdout",
     "output_type": "stream",
     "text": [
      "He says \" I love you.\"\n"
     ]
    }
   ],
   "source": [
    "# \"\"와 ''의 차이점\n",
    "# He says \" I love you.\"\n",
    "print('He says \" I love you.\"')"
   ]
  },
  {
   "cell_type": "code",
   "execution_count": 14,
   "metadata": {},
   "outputs": [
    {
     "data": {
      "text/plain": [
       "['In',\n",
       " 'Out',\n",
       " '_',\n",
       " '_10',\n",
       " '_11',\n",
       " '_12',\n",
       " '_9',\n",
       " '__',\n",
       " '___',\n",
       " '__builtin__',\n",
       " '__builtins__',\n",
       " '__doc__',\n",
       " '__loader__',\n",
       " '__name__',\n",
       " '__package__',\n",
       " '__spec__',\n",
       " '__vsc_ipynb_file__',\n",
       " '_dh',\n",
       " '_i',\n",
       " '_i1',\n",
       " '_i10',\n",
       " '_i11',\n",
       " '_i12',\n",
       " '_i13',\n",
       " '_i14',\n",
       " '_i2',\n",
       " '_i3',\n",
       " '_i4',\n",
       " '_i5',\n",
       " '_i6',\n",
       " '_i7',\n",
       " '_i8',\n",
       " '_i9',\n",
       " '_ih',\n",
       " '_ii',\n",
       " '_iii',\n",
       " '_oh',\n",
       " 'a',\n",
       " 'appleFruit',\n",
       " 'apple_fruit',\n",
       " 'exit',\n",
       " 'get_ipython',\n",
       " 'math',\n",
       " 'open',\n",
       " 'quit',\n",
       " 'var01',\n",
       " 'var02']"
      ]
     },
     "execution_count": 14,
     "metadata": {},
     "output_type": "execute_result"
    }
   ],
   "source": [
    "# 메모리에 있는 변수 확인\n",
    "dir()"
   ]
  },
  {
   "cell_type": "code",
   "execution_count": 15,
   "metadata": {},
   "outputs": [
    {
     "ename": "NameError",
     "evalue": "name 'var01' is not defined",
     "output_type": "error",
     "traceback": [
      "\u001b[0;31m---------------------------------------------------------------------------\u001b[0m",
      "\u001b[0;31mNameError\u001b[0m                                 Traceback (most recent call last)",
      "Cell \u001b[0;32mIn[15], line 4\u001b[0m\n\u001b[1;32m      2\u001b[0m var01\n\u001b[1;32m      3\u001b[0m \u001b[38;5;28;01mdel\u001b[39;00m var01\n\u001b[0;32m----> 4\u001b[0m var01\n",
      "\u001b[0;31mNameError\u001b[0m: name 'var01' is not defined"
     ]
    }
   ],
   "source": [
    "# 메모리에 있는 변수 삭제\n",
    "var01\n",
    "del var01\n",
    "var01"
   ]
  },
  {
   "cell_type": "markdown",
   "metadata": {},
   "source": [
    "---\n",
    "### 난수 발생"
   ]
  },
  {
   "cell_type": "code",
   "execution_count": 16,
   "metadata": {},
   "outputs": [],
   "source": [
    "import random\n",
    "\n"
   ]
  },
  {
   "cell_type": "code",
   "execution_count": 24,
   "metadata": {},
   "outputs": [
    {
     "data": {
      "text/plain": [
       "14"
      ]
     },
     "execution_count": 24,
     "metadata": {},
     "output_type": "execute_result"
    }
   ],
   "source": [
    "# 1 ~ 100 사이의 수중 난수 1개 발생\n",
    "# 원래 난수의 범위는 0 (False) < ~ < 1 (True)\n",
    "\n",
    "random.randint(1, 100)"
   ]
  },
  {
   "cell_type": "code",
   "execution_count": 30,
   "metadata": {},
   "outputs": [
    {
     "name": "stdout",
     "output_type": "stream",
     "text": [
      "[1, 2, 3, 4, 5, 6, 7, 8, 9, 10]\n",
      "[1, 2, 3, 4, 5, 6, 7, 8, 9, 10]\n"
     ]
    }
   ],
   "source": [
    "# 범위의 수\n",
    "\n",
    "var01 = [1,2,3,4,5,6,7,8,9,10] #List()\n",
    "print(var01)\n",
    "range(1, 10+1) # range는 10까지 하면 10전까지 보여주어서 10+1을 써준다\n",
    "print(list(range(1, 10+1)))\n",
    "\n"
   ]
  },
  {
   "cell_type": "code",
   "execution_count": null,
   "metadata": {},
   "outputs": [
    {
     "data": {
      "text/plain": [
       "[2, 4, 6, 8, 10]"
      ]
     },
     "execution_count": 32,
     "metadata": {},
     "output_type": "execute_result"
    }
   ],
   "source": [
    "# 2~10수중 짝수만 출력\n",
    "list(range(2, 10+1, 2))"
   ]
  },
  {
   "cell_type": "code",
   "execution_count": 34,
   "metadata": {},
   "outputs": [
    {
     "name": "stdout",
     "output_type": "stream",
     "text": [
      "[3, 6, 9, 12, 15, 18, 21, 24, 27, 30, 33, 36, 39, 42, 45, 48, 51, 54, 57, 60, 63, 66, 69, 72, 75, 78, 81, 84, 87, 90, 93, 96, 99]\n"
     ]
    }
   ],
   "source": [
    "# 3 ~ 100까지의 수중 3의 배수만 List로 보기\n",
    "print(list(range(3, 100+1, 3)))"
   ]
  },
  {
   "cell_type": "code",
   "execution_count": null,
   "metadata": {},
   "outputs": [
    {
     "name": "stdout",
     "output_type": "stream",
     "text": [
      "[10, 8, 6, 4, 2]\n"
     ]
    }
   ],
   "source": [
    "# 10에서 2까지 짝수만 출력\n",
    "print(list(range(10, 2-1, -2))) # 내림차순 \"-\" 사용"
   ]
  },
  {
   "cell_type": "code",
   "execution_count": 62,
   "metadata": {},
   "outputs": [
    {
     "data": {
      "text/plain": [
       "[44, 5, 17, 36, 14, 27]"
      ]
     },
     "execution_count": 62,
     "metadata": {},
     "output_type": "execute_result"
    }
   ],
   "source": [
    "# Sampling\n",
    "\n",
    "lotto_list = range(1, 45+1)\n",
    "random.sample(lotto_list, 6)"
   ]
  },
  {
   "cell_type": "markdown",
   "metadata": {},
   "source": [
    "---\n",
    "### 관계 연산자"
   ]
  },
  {
   "cell_type": "code",
   "execution_count": 63,
   "metadata": {},
   "outputs": [],
   "source": [
    "num1 = 100\n",
    "num2 = 20"
   ]
  },
  {
   "cell_type": "code",
   "execution_count": null,
   "metadata": {},
   "outputs": [
    {
     "name": "stdout",
     "output_type": "stream",
     "text": [
      "False\n",
      "True\n"
     ]
    }
   ],
   "source": [
    "# 동등 비교\n",
    "print(num1 == num2) # 같다.\n",
    "print(num1 != num2) # 같지 않다. ! 먼저 나와야 함"
   ]
  },
  {
   "cell_type": "code",
   "execution_count": null,
   "metadata": {},
   "outputs": [
    {
     "name": "stdout",
     "output_type": "stream",
     "text": [
      "True\n",
      "False\n",
      "True\n",
      "False\n"
     ]
    }
   ],
   "source": [
    "# 크기 비교\n",
    "print(num1 > num2) # num1이 num2보다 크냐?\n",
    "print(num1 < num2) # num1이 num2보다 작냐?\n",
    "print(num1 >= num2) # num1이 num2보다 크거나 같냐? => (x)\n",
    "print(num1 <= num2) # num1이 num2보다 작거나 같냐? =< (x)"
   ]
  },
  {
   "cell_type": "markdown",
   "metadata": {},
   "source": [
    "---\n",
    "### 논리 연산자    \n",
    ": and , or "
   ]
  },
  {
   "cell_type": "code",
   "execution_count": null,
   "metadata": {},
   "outputs": [
    {
     "name": "stdout",
     "output_type": "stream",
     "text": [
      "False\n",
      "True\n"
     ]
    }
   ],
   "source": [
    "# And Or 연산자 (&, |) \n",
    "\n",
    "print((num1 >= 50) and (num2 <= 10)) # True and False => False / True and True 일 때만 True가 나온다.\n",
    "print((num1 >= 50) or (num2 <= 10))  # Or는 False or False만 False가 나온다. False = 0 , True = 1\n",
    "\n"
   ]
  },
  {
   "cell_type": "code",
   "execution_count": null,
   "metadata": {},
   "outputs": [
    {
     "name": "stdout",
     "output_type": "stream",
     "text": [
      "False\n"
     ]
    }
   ],
   "source": [
    "# 부정 연산자 (!)\n",
    "\n",
    "print(not(num1 >= 50)) # True가 False 로 바뀐다."
   ]
  },
  {
   "cell_type": "markdown",
   "metadata": {},
   "source": [
    "----\n",
    "### 문자열 자료형"
   ]
  },
  {
   "cell_type": "code",
   "execution_count": 73,
   "metadata": {},
   "outputs": [
    {
     "data": {
      "text/plain": [
       "'Hello World'"
      ]
     },
     "execution_count": 73,
     "metadata": {},
     "output_type": "execute_result"
    }
   ],
   "source": [
    "var01 = \"Hello World\"\n",
    "var01"
   ]
  },
  {
   "cell_type": "code",
   "execution_count": 79,
   "metadata": {},
   "outputs": [
    {
     "name": "stdout",
     "output_type": "stream",
     "text": [
      "\n",
      "    Hello World!\n",
      "    Good to meet you.\n",
      "            Bye!\n",
      "    My father's wife is my mother.\n",
      "    He says \"I love you.\"\n",
      "\n"
     ]
    }
   ],
   "source": [
    "# 여러줄의 문자열 출력\n",
    "var01 = \"\"\"\n",
    "    Hello World!\n",
    "    Good to meet you.\n",
    "            Bye!\n",
    "    My father's wife is my mother.\n",
    "    He says \"I love you.\"\n",
    "\"\"\"\n",
    "\n",
    "print(var01)"
   ]
  },
  {
   "cell_type": "code",
   "execution_count": 77,
   "metadata": {},
   "outputs": [
    {
     "name": "stdout",
     "output_type": "stream",
     "text": [
      "My father's wife is my mother.\n",
      "He says \"I love you.\"\n"
     ]
    }
   ],
   "source": [
    "# 쌍따음표와 홑따음표의 사용\n",
    "\n",
    "var01 = \"My father's wife is my mother.\" # 홑따음표 표시하기 위해서 쌍따음표가 필요\n",
    "var02 = 'He says \"I love you.\"'\n",
    "print(var01)\n",
    "print(var02)"
   ]
  },
  {
   "cell_type": "code",
   "execution_count": 85,
   "metadata": {},
   "outputs": [
    {
     "name": "stdout",
     "output_type": "stream",
     "text": [
      "aaa\n",
      "\n",
      "bbb\n",
      "aaa\t\tbbb\n"
     ]
    }
   ],
   "source": [
    "# 특수 문자를 사용한 출력\n",
    "var03 = 'aaa\\n\\nbbb' # \\n 다음 라인\n",
    "print(var03)\n",
    "\n",
    "var04 = 'aaa\\t\\tbbb' # \\t tab\n",
    "print(var04)"
   ]
  },
  {
   "cell_type": "code",
   "execution_count": 87,
   "metadata": {},
   "outputs": [
    {
     "name": "stdout",
     "output_type": "stream",
     "text": [
      "Pythonis fun\n",
      "Python is fun\n"
     ]
    }
   ],
   "source": [
    "# 문자열 연산 (덧셈)\n",
    "var01 = \"Python\"\n",
    "var02 = \"is fun\"\n",
    "\n",
    "print(var01 + var02)\n",
    "print(var01, var02) # , 기본값이 한 칸 띄어쓰기"
   ]
  },
  {
   "cell_type": "code",
   "execution_count": null,
   "metadata": {},
   "outputs": [
    {
     "name": "stdout",
     "output_type": "stream",
     "text": [
      "PythonPythonPython\n"
     ]
    }
   ],
   "source": [
    "# 문자열 연산(곱셈) - 파이썬만 가능하다.\n",
    "var01 = \"Python\"\n",
    "print(var01 * 3)"
   ]
  },
  {
   "cell_type": "code",
   "execution_count": 91,
   "metadata": {},
   "outputs": [
    {
     "name": "stdout",
     "output_type": "stream",
     "text": [
      "=====================\n",
      "Python\n",
      "=====================\n",
      "=====================\n",
      "Python\n",
      "=====================\n"
     ]
    }
   ],
   "source": [
    "var01 = '='\n",
    "var02 = 'Python'\n",
    "\n",
    "print(var01 * 21)\n",
    "print(var02)\n",
    "print(var01 * 21)\n",
    "\n",
    "print(\"=\" * 21)\n",
    "print(\"Python\")\n",
    "print(\"=\" * 21)"
   ]
  },
  {
   "cell_type": "code",
   "execution_count": 94,
   "metadata": {},
   "outputs": [
    {
     "name": "stdout",
     "output_type": "stream",
     "text": [
      "*********************\n",
      "Python\t\t파이썬\n",
      "*********************\n"
     ]
    }
   ],
   "source": [
    "print(\"*\" * 21)\n",
    "print(\"Python\\t\\t파이썬\")\n",
    "print(\"*\" * 21)"
   ]
  },
  {
   "cell_type": "code",
   "execution_count": 99,
   "metadata": {},
   "outputs": [
    {
     "name": "stdout",
     "output_type": "stream",
     "text": [
      "abc\n"
     ]
    }
   ],
   "source": [
    "print(\"a\", \"b\", \"c\", sep=\"\")"
   ]
  },
  {
   "cell_type": "code",
   "execution_count": 108,
   "metadata": {},
   "outputs": [
    {
     "name": "stdout",
     "output_type": "stream",
     "text": [
      "*********************\n",
      "Python\t\t파이썬\n",
      "*********************\n",
      "*********************\n",
      "Python\t\t파이썬\n",
      "*********************\n",
      "*********************\n",
      "Python\t\t파이썬\n",
      "*********************\n"
     ]
    }
   ],
   "source": [
    "print((\"*\" * 21), (\"Python\\t\\t파이썬\"), (\"*\" * 21), sep=\"\\n\")\n",
    "print(\"*\"*21, \"\\n\", \"Python\\t\\t파이썬\", \"\\n\", \"*\"*21, sep=\"\")\n",
    "print(\"*\"*21, \"Python\\t\\t파이썬\", \"*\"*21, sep=\"\\n\")"
   ]
  },
  {
   "cell_type": "markdown",
   "metadata": {},
   "source": [
    "---\n",
    "### 문자열 indexing과 slicing    \n",
    ": indexing은 0번부터 시작하고 []안에 사용된다.     \n",
    "slicing은 indexing의 범위를 지정한다."
   ]
  },
  {
   "cell_type": "code",
   "execution_count": null,
   "metadata": {},
   "outputs": [
    {
     "name": "stdout",
     "output_type": "stream",
     "text": [
      "a\n",
      "abc\n",
      "abc\n",
      "n\n",
      "fghijklmn\n",
      "abcde\n",
      "fghijkl\n"
     ]
    }
   ],
   "source": [
    "str = \"abcdefghijklmn\"\n",
    "print(str[0])\n",
    "print(str[0:2+1])\n",
    "print(str[:2+1])\n",
    "print(str[-1]) # 맨 뒤는 -1이다.\n",
    "print(str[5:])\n",
    "print(str[:5]) # 5 = 4+1 | 0부터 시작하기 때문에\n",
    "# fghijkl\n",
    "print(str[5:-2])"
   ]
  },
  {
   "cell_type": "code",
   "execution_count": 125,
   "metadata": {},
   "outputs": [
    {
     "name": "stdout",
     "output_type": "stream",
     "text": [
      "2020 1229 Snow\n"
     ]
    }
   ],
   "source": [
    "str = \"20201229Snow\"\n",
    "\n",
    "year = str[0:4]\n",
    "day = str[4:8]\n",
    "weather = str[8:]\n",
    "\n",
    "print(year, day, weather) # 2020 1229 Snow\n"
   ]
  },
  {
   "cell_type": "code",
   "execution_count": null,
   "metadata": {},
   "outputs": [
    {
     "name": "stdout",
     "output_type": "stream",
     "text": [
      "b\n",
      "abcde\n"
     ]
    }
   ],
   "source": [
    "str = \"abbde\"\n",
    "print(str[2])\n",
    "# str[2] = \"c\" # 문자열은 변경이 불가능하다. 리스트는 수정이 가능하다.\n",
    "# abcde\n",
    "print(str[0:2]+\"c\"+str[3:])"
   ]
  },
  {
   "cell_type": "markdown",
   "metadata": {},
   "source": [
    "---\n",
    "### 문자열 formatting    \n",
    ":%s(string 문자), %d(decimal 정수), %f(float 실수) "
   ]
  },
  {
   "cell_type": "code",
   "execution_count": 133,
   "metadata": {},
   "outputs": [
    {
     "name": "stdout",
     "output_type": "stream",
     "text": [
      "I have 2 apples.\n"
     ]
    }
   ],
   "source": [
    "# %d : 정수형 formatting\n",
    "print(\"I have %d apples.\"%2)"
   ]
  },
  {
   "cell_type": "code",
   "execution_count": 134,
   "metadata": {},
   "outputs": [
    {
     "name": "stdout",
     "output_type": "stream",
     "text": [
      "I have 2 apples.\n"
     ]
    }
   ],
   "source": [
    "number = 2\n",
    "print(\"I have %d apples.\"%number)"
   ]
  },
  {
   "cell_type": "code",
   "execution_count": 135,
   "metadata": {},
   "outputs": [
    {
     "name": "stdout",
     "output_type": "stream",
     "text": [
      "I have tow apples.\n"
     ]
    }
   ],
   "source": [
    "# %s : 문자열 formatting\n",
    "\n",
    "print(\"I have %s apples.\"%\"tow\")"
   ]
  },
  {
   "cell_type": "code",
   "execution_count": 136,
   "metadata": {},
   "outputs": [
    {
     "name": "stdout",
     "output_type": "stream",
     "text": [
      "I have 2 apples.\n"
     ]
    }
   ],
   "source": [
    "# 혼합형 formatting\n",
    "number =2 \n",
    "fruit = \"apples\"\n",
    "\n",
    "print(\"I have %d %s.\"%(number, fruit))"
   ]
  },
  {
   "cell_type": "code",
   "execution_count": 139,
   "metadata": {},
   "outputs": [
    {
     "name": "stdout",
     "output_type": "stream",
     "text": [
      "I have 2 apples.\n",
      "I have 2     apples.\n",
      "I have 2 apples    .\n"
     ]
    }
   ],
   "source": [
    "# 문자열 정렬\n",
    "print(\"I have 2 %s.\"%\"apples\")\n",
    "print(\"I have 2 %10s.\"%\"apples\") # 10 글자를 쓰겠다는 의미, 우측 정렬\n",
    "print(\"I have 2 %-10s.\"%\"apples\") # 10 글자를 쓰겠다는 의미, 좌측 정렬"
   ]
  },
  {
   "cell_type": "code",
   "execution_count": null,
   "metadata": {},
   "outputs": [
    {
     "name": "stdout",
     "output_type": "stream",
     "text": [
      "----------\n",
      "3.1416\n",
      "    3.1416\n"
     ]
    }
   ],
   "source": [
    "# %f  실수형 formatting\n",
    "print(\"-\"*10)\n",
    "print(\"%0.4f\"%3.14159) # 소수점 4자리만 사용하겠다. 소수점 5자리에서 자동 반올림이 된다.\n",
    "print(\"%10.4f\"%3.14159) # 전체 자리수 10자리와 소수점 4자리만 사용하겠다. 소수점 5자리에서 자동 반올림이 된다."
   ]
  },
  {
   "cell_type": "markdown",
   "metadata": {},
   "source": [
    "----\n",
    "### f-string 포맷팅   \n",
    ":Python 3.6이상"
   ]
  },
  {
   "cell_type": "code",
   "execution_count": null,
   "metadata": {},
   "outputs": [
    {
     "name": "stdout",
     "output_type": "stream",
     "text": [
      "홍길동의 나이는 32살이다\n",
      "홍길동의 나이는 32살이다.\n"
     ]
    }
   ],
   "source": [
    "name = \"홍길동\"\n",
    "age = 32\n",
    "\n",
    "print(\"%s의 나이는 %d살이다\"%(name, age))\n",
    "print(f\"{name}의 나이는 {age}살이다.\") # f-string"
   ]
  },
  {
   "cell_type": "code",
   "execution_count": 149,
   "metadata": {},
   "outputs": [
    {
     "name": "stdout",
     "output_type": "stream",
     "text": [
      "[]1234567             ]\n",
      "[             1234567]\n",
      "[      1234567       ]\n"
     ]
    }
   ],
   "source": [
    "number = 1234567\n",
    "# 좌측정렬\n",
    "print(f\"[]{number:<20}]\") \n",
    "# 우측정렬\n",
    "print(f\"[{number:>20}]\")\n",
    "# 가운데 정렬\n",
    "print(f\"[{number:^20}]\")"
   ]
  },
  {
   "cell_type": "code",
   "execution_count": 151,
   "metadata": {},
   "outputs": [
    {
     "name": "stdout",
     "output_type": "stream",
     "text": [
      "[#############1234567]\n",
      "[00000000000001234567]\n"
     ]
    }
   ],
   "source": [
    "# 빈칸 채우기\n",
    "print(f\"[{number:#>20}]\")\n",
    "print(f\"[{number:0>20}]\")"
   ]
  },
  {
   "cell_type": "code",
   "execution_count": null,
   "metadata": {},
   "outputs": [
    {
     "name": "stdout",
     "output_type": "stream",
     "text": [
      "[------1234567-------]\n",
      "[-----1,234,567------]\n"
     ]
    }
   ],
   "source": [
    "# 가운데 정렬, 빈칸채우기(-), 천단위 쉼표\n",
    "print(f\"[{number:-^20}]\")\n",
    "print(f\"[{number:-^20,}]\") # 사용자가 보기 편하게 천단위 쉼표가 가능하다.\n"
   ]
  },
  {
   "cell_type": "code",
   "execution_count": 158,
   "metadata": {},
   "outputs": [
    {
     "name": "stdout",
     "output_type": "stream",
     "text": [
      "[               3.142]\n"
     ]
    }
   ],
   "source": [
    "# 실수 출력\n",
    "f_number = 3.141592\n",
    "print(f\"[{f_number:>20.3f}]\") # 소수점 3자리까지"
   ]
  },
  {
   "cell_type": "code",
   "execution_count": null,
   "metadata": {},
   "outputs": [],
   "source": []
  }
 ],
 "metadata": {
  "kernelspec": {
   "display_name": "base",
   "language": "python",
   "name": "python3"
  },
  "language_info": {
   "codemirror_mode": {
    "name": "ipython",
    "version": 3
   },
   "file_extension": ".py",
   "mimetype": "text/x-python",
   "name": "python",
   "nbconvert_exporter": "python",
   "pygments_lexer": "ipython3",
   "version": "3.12.7"
  }
 },
 "nbformat": 4,
 "nbformat_minor": 2
}
